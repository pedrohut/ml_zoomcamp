{
 "cells": [
  {
   "cell_type": "code",
   "execution_count": 78,
   "id": "de051fbd",
   "metadata": {},
   "outputs": [],
   "source": [
    "import numpy as np\n",
    "import pandas as pd"
   ]
  },
  {
   "cell_type": "code",
   "execution_count": 2,
   "id": "95cb2509",
   "metadata": {},
   "outputs": [
    {
     "data": {
      "text/plain": [
       "'1.5.3'"
      ]
     },
     "execution_count": 2,
     "metadata": {},
     "output_type": "execute_result"
    }
   ],
   "source": [
    "# Question 1\n",
    "pd.__version__"
   ]
  },
  {
   "cell_type": "code",
   "execution_count": 47,
   "id": "92be381f",
   "metadata": {},
   "outputs": [
    {
     "name": "stdout",
     "output_type": "stream",
     "text": [
      "The number of columns are: 10\n"
     ]
    }
   ],
   "source": [
    "# Question 2\n",
    "df = pd.read_csv(r'housing.csv')\n",
    "columns = df.shape[1]\n",
    "print(f\"The number of columns are: {columns}\")"
   ]
  },
  {
   "cell_type": "code",
   "execution_count": 39,
   "id": "087e0d90",
   "metadata": {},
   "outputs": [
    {
     "name": "stdout",
     "output_type": "stream",
     "text": [
      "The column total_rooms has no missing values\n",
      "The column mvbedrooms has  missing values\n"
     ]
    }
   ],
   "source": [
    "# Question 3\n",
    "\n",
    "mvrooms = True in df[\"total_rooms\"].isna().unique()\n",
    "mvbedrooms = True in df[\"total_bedrooms\"].isna().unique()\n",
    "\n",
    "print(f\"The column total_rooms has {'no' if not mvrooms else ''} missing values\")\n",
    "print(f\"The column mvbedrooms has {'no' if not mvbedrooms else ''} missing values\")"
   ]
  },
  {
   "cell_type": "code",
   "execution_count": 48,
   "id": "d072842b",
   "metadata": {},
   "outputs": [
    {
     "name": "stdout",
     "output_type": "stream",
     "text": [
      "The number of values are: 5\n"
     ]
    }
   ],
   "source": [
    "# Question 4\n",
    "\n",
    "n_values = len(df[\"ocean_proximity\"].unique())\n",
    "\n",
    "print(f\"The number of values are: {n_values}\")"
   ]
  },
  {
   "cell_type": "code",
   "execution_count": 69,
   "id": "65c09877",
   "metadata": {},
   "outputs": [
    {
     "name": "stdout",
     "output_type": "stream",
     "text": [
      "The average value of the median_house_value for the houses located near the bay is: 259212.31179039303\n"
     ]
    }
   ],
   "source": [
    "# Question 5\n",
    "\n",
    "mean_NB = df[df[\"ocean_proximity\"] ==\"NEAR BAY\"][\"median_house_value\"].mean()\n",
    "print(f\"The average value of the median_house_value for the houses located near the bay is: {mean_NB}\")"
   ]
  },
  {
   "cell_type": "code",
   "execution_count": 88,
   "id": "e8f2ecd2",
   "metadata": {},
   "outputs": [
    {
     "name": "stdout",
     "output_type": "stream",
     "text": [
      "537.8705525375618\n",
      "537.8705525375617\n"
     ]
    }
   ],
   "source": [
    "# Question 6\n",
    "\n",
    "tb_mean = df[\"total_bedrooms\"].mean()\n",
    "\n",
    "df[\"new_total_bedrooms\"] = df[\"total_bedrooms\"].replace(np.nan, tb_mean)\n",
    "\n",
    "new_tb_mean = df[\"new_total_bedrooms\"].mean()\n",
    "\n",
    "print(tb_mean)\n",
    "print(new_tb_mean)"
   ]
  },
  {
   "cell_type": "code",
   "execution_count": 127,
   "id": "d5e5048d",
   "metadata": {},
   "outputs": [
    {
     "data": {
      "text/plain": [
       "array([23.12330961, -1.48124183,  5.69922946])"
      ]
     },
     "execution_count": 127,
     "metadata": {},
     "output_type": "execute_result"
    }
   ],
   "source": [
    "# Question 6\n",
    "\n",
    "X = df[df[\"ocean_proximity\"] ==\"ISLAND\"][[\"housing_median_age\",\"total_rooms\",\"total_bedrooms\"]].to_numpy()\n",
    "XTX = X.T.dot(X)\n",
    "invXTX = np.linalg.inv(XTX)\n",
    "y = np.array([950, 1300, 800, 1000, 1300])\n",
    "invXTXTX = invXTX.dot(X.T)\n",
    "invXTXTX.dot(y)"
   ]
  }
 ],
 "metadata": {
  "kernelspec": {
   "display_name": "Python 3 (ipykernel)",
   "language": "python",
   "name": "python3"
  },
  "language_info": {
   "codemirror_mode": {
    "name": "ipython",
    "version": 3
   },
   "file_extension": ".py",
   "mimetype": "text/x-python",
   "name": "python",
   "nbconvert_exporter": "python",
   "pygments_lexer": "ipython3",
   "version": "3.11.4"
  }
 },
 "nbformat": 4,
 "nbformat_minor": 5
}
